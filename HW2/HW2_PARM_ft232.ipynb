{
 "cells": [
  {
   "cell_type": "code",
   "execution_count": 1,
   "metadata": {},
   "outputs": [],
   "source": [
    "import gurobipy as gp\n",
    "import numpy as np\n",
    "import pandas as pd\n",
    "import matplotlib.pyplot as plt\n",
    "from sklearn.linear_model import LinearRegression"
   ]
  },
  {
   "attachments": {},
   "cell_type": "markdown",
   "metadata": {},
   "source": [
    "# PROBLEM 1"
   ]
  },
  {
   "cell_type": "code",
   "execution_count": 2,
   "metadata": {},
   "outputs": [],
   "source": [
    "# demand of each itinerary\n",
    "demand = [[25, 20], \n",
    "          [55, 40],\n",
    "          [65, 25],\n",
    "          [24, 16],\n",
    "          [65, 50],\n",
    "          [40, 35],\n",
    "          [21, 20], \n",
    "          [25, 14]]\n",
    "# cost of each itinerary\n",
    "fares = [[200, 230], \n",
    "         [320, 420],\n",
    "         [400, 490],\n",
    "         [250, 290],\n",
    "         [410, 550],\n",
    "         [450, 550],\n",
    "         [200, 230], \n",
    "         [250, 300]]\n",
    "# number of seats occupied by each itinerary\n",
    "seats = [[1, 0, 0, 0], \n",
    "         [1, 0, 1, 0],\n",
    "         [1, 0, 0, 1],\n",
    "         [0, 1, 0, 0],\n",
    "         [0, 1, 1, 0],\n",
    "         [0, 1, 0, 1],\n",
    "         [0, 0, 1, 0], \n",
    "         [0, 0, 0, 1]]\n",
    "N = len(demand) # number of itineraries\n",
    "F = len(seats[0]) # number of flights"
   ]
  },
  {
   "cell_type": "code",
   "execution_count": 3,
   "metadata": {},
   "outputs": [
    {
     "name": "stdout",
     "output_type": "stream",
     "text": [
      "Using license file C:\\Users\\ftibe\\gurobi.lic\n",
      "Academic license - for non-commercial use only\n"
     ]
    }
   ],
   "source": [
    "# create a new model\n",
    "m = gp.Model(\"Network Revenue Management\")\n",
    "\n",
    "# create variables = number of tickets sold on each itinerary (Q and Y classes) \n",
    "q = m.addVars(N, vtype=gp.GRB.CONTINUOUS, lb = 0, name=\"Q\")\n",
    "y = m.addVars(N, vtype=gp.GRB.CONTINUOUS, lb = 0, name=\"Y\")\n",
    "\n",
    "# objective function\n",
    "objExpr = gp.LinExpr()\n",
    "for i in range(N):\n",
    "    objExpr += fares[i][0]*q[i] + fares[i][1]*y[i]\n",
    "m.setObjective(objExpr, gp.GRB.MAXIMIZE)"
   ]
  },
  {
   "cell_type": "code",
   "execution_count": 4,
   "metadata": {},
   "outputs": [],
   "source": [
    "# tickets sold are lower than the demand\n",
    "for i in range(N):\n",
    "    m.addConstr(lhs = q[i], sense = gp.GRB.LESS_EQUAL, rhs = demand[i][0], name = \"demand q class \" + str(i))\n",
    "    m.addConstr(lhs = y[i], sense = gp.GRB.LESS_EQUAL, rhs = demand[i][1], name = \"demand y class \" + str(i))\n",
    "\n",
    "# number of seats occupied by each itinerary\n",
    "for j in range(F):\n",
    "    constrExpr = gp.LinExpr()\n",
    "    for i in range(N):\n",
    "        constrExpr += seats[i][j]*q[i] + seats[i][j]*y[i]\n",
    "    m.addConstr(lhs = constrExpr, sense = gp.GRB.LESS_EQUAL, rhs = 200, name = \"seats occupied \" + str(j))\n"
   ]
  },
  {
   "cell_type": "code",
   "execution_count": 5,
   "metadata": {},
   "outputs": [
    {
     "name": "stdout",
     "output_type": "stream",
     "text": [
      "Warning: constraint name \"demand q class 0\" has a space\n",
      "Gurobi Optimizer version 9.0.3 build v9.0.3rc0 (win64)\n",
      "Optimize a model with 20 rows, 16 columns and 40 nonzeros\n",
      "Model fingerprint: 0x41a2674b\n",
      "Coefficient statistics:\n",
      "  Matrix range     [1e+00, 1e+00]\n",
      "  Objective range  [2e+02, 6e+02]\n",
      "  Bounds range     [0e+00, 0e+00]\n",
      "  RHS range        [1e+01, 2e+02]\n",
      "Presolve removed 16 rows and 0 columns\n",
      "Presolve time: 0.01s\n",
      "Presolved: 4 rows, 16 columns, 24 nonzeros\n",
      "\n",
      "Iteration    Objective       Primal Inf.    Dual Inf.      Time\n",
      "       0    2.2725000e+05   5.062500e+01   0.000000e+00      0s\n",
      "       6    1.8228000e+05   0.000000e+00   0.000000e+00      0s\n",
      "\n",
      "Solved in 6 iterations and 0.02 seconds\n",
      "Optimal objective  1.822800000e+05\n",
      "\n",
      "Optimal Objective: 182280.0\n",
      "\n",
      "Optimal Solution:\n",
      "Q[0] 25.0\n",
      "Q[1] 25.0\n",
      "Q[2] 65.0\n",
      "Q[3] 19.0\n",
      "Q[4] 44.0\n",
      "Q[5] 36.0\n",
      "Q[6] 21.0\n",
      "Q[7] 25.0\n",
      "Y[0] 20.0\n",
      "Y[1] 40.0\n",
      "Y[2] 25.0\n",
      "Y[3] 16.0\n",
      "Y[4] 50.0\n",
      "Y[5] 35.0\n",
      "Y[6] 20.0\n",
      "Y[7] 14.0\n",
      "\n",
      "Dual Variables:\n",
      "[40.0, 70.0, 0.0, 100.0, 40.0, 130.0, 0.0, 40.0, 0.0, 140.0, 0.0, 100.0, 40.0, 70.0, 50.0, 100.0, 160.0, 250.0, 160.0, 200.0]\n"
     ]
    }
   ],
   "source": [
    "m.write(filename = \"HW2_PARM_ft232.lp\")\n",
    "\n",
    "# optimize the model\n",
    "m.optimize()\n",
    "\n",
    "# print optimal objective and optimal solution\n",
    "print(\"\\nOptimal Objective: \" + str(m.ObjVal))\n",
    "print(\"\\nOptimal Solution:\")\n",
    "allVars = m.getVars()\n",
    "for var in allVars:\n",
    "    print(var.varName + \" \" + str(var.x))\n",
    "\n",
    "# print dual variables\n",
    "print(\"\\nDual Variables:\")\n",
    "duals = m.getAttr(\"Pi\", m.getConstrs())\n",
    "print(duals)"
   ]
  },
  {
   "attachments": {},
   "cell_type": "markdown",
   "metadata": {},
   "source": [
    "# PROBLEM 2"
   ]
  },
  {
   "cell_type": "code",
   "execution_count": 6,
   "metadata": {},
   "outputs": [
    {
     "name": "stdout",
     "output_type": "stream",
     "text": [
      "the line is: 395.3217512993542-1.9797083268982867x\n"
     ]
    }
   ],
   "source": [
    "df2 = pd.read_excel(\"Demand.xlsx\", sheet_name='Sheet1')\n",
    "x = df2['price'].values.reshape(-1, 1)\n",
    "y = df2['Demand'].values.reshape(-1, 1)\n",
    "m = LinearRegression().fit(x, y)\n",
    "a = m.intercept_[0]\n",
    "b = m.coef_[0][0]\n",
    "print('the line is: ' +  str(a) + str(b) + 'x')"
   ]
  },
  {
   "cell_type": "code",
   "execution_count": 7,
   "metadata": {},
   "outputs": [
    {
     "data": {
      "image/png": "[encoded data removed]",
      "text/plain": [
       "<Figure size 1000x600 with 1 Axes>"
      ]
     },
     "metadata": {},
     "output_type": "display_data"
    }
   ],
   "source": [
    "# plot the demand curve\n",
    "plt.figure(figsize=(10, 6))\n",
    "plt.plot(x, y, 'o')\n",
    "x1 = np.linspace(0, 100, 10)\n",
    "y1 = a + b * x1\n",
    "plt.plot(x1, y1, '-')\n",
    "plt.savefig('demand.png')\n",
    "plt.show()"
   ]
  },
  {
   "cell_type": "code",
   "execution_count": 8,
   "metadata": {},
   "outputs": [
    {
     "name": "stdout",
     "output_type": "stream",
     "text": [
      "The optimal value is 99.84343297649448\n"
     ]
    }
   ],
   "source": [
    "print('The optimal value is ' + str(-a/(2*b)))"
   ]
  },
  {
   "attachments": {},
   "cell_type": "markdown",
   "metadata": {},
   "source": [
    "# Problem 3"
   ]
  },
  {
   "cell_type": "code",
   "execution_count": 9,
   "metadata": {},
   "outputs": [],
   "source": [
    "df3 = pd.read_excel(\"InSample.xlsx\", sheet_name='Sheet1')"
   ]
  },
  {
   "cell_type": "code",
   "execution_count": 10,
   "metadata": {},
   "outputs": [],
   "source": [
    "def wtp(df, p):\n",
    "    no_buy = 0\n",
    "    buy = 0\n",
    "    for i in range(len(df)):\n",
    "        if df['p_i'][i] >= p and df['y_i'][i] == 1:\n",
    "            buy += 1\n",
    "        elif df['p_i'][i] <= p and df['y_i'][i] == 0:\n",
    "            no_buy += 1\n",
    "    return buy / (no_buy + buy)"
   ]
  },
  {
   "cell_type": "code",
   "execution_count": 17,
   "metadata": {},
   "outputs": [],
   "source": [
    "xw = []\n",
    "Fw = []\n",
    "for i in range(max(df3['p_i'] + 1)):\n",
    "    xw.append(i)\n",
    "    Fw.append(1 - wtp(df3, i))"
   ]
  },
  {
   "cell_type": "code",
   "execution_count": 18,
   "metadata": {},
   "outputs": [
    {
     "data": {
      "image/png": "[encoded data removed]",
      "text/plain": [
       "<Figure size 1000x600 with 1 Axes>"
      ]
     },
     "metadata": {},
     "output_type": "display_data"
    }
   ],
   "source": [
    "# plot the willingness to pay curve\n",
    "plt.figure(figsize=(10, 6))\n",
    "plt.step(xw, Fw, where = 'post')\n",
    "plt.savefig('willingness_to_pay_F.png')\n",
    "plt.show()"
   ]
  },
  {
   "cell_type": "code",
   "execution_count": 19,
   "metadata": {},
   "outputs": [],
   "source": [
    "def expected_revenue(df, p):\n",
    "    revenue = 0\n",
    "    for i in range(len(df)):\n",
    "        if df['p_i'][i] >= p:\n",
    "            revenue += p\n",
    "    return revenue/len(df)"
   ]
  },
  {
   "cell_type": "code",
   "execution_count": 24,
   "metadata": {},
   "outputs": [
    {
     "name": "stdout",
     "output_type": "stream",
     "text": [
      "The optimal price is 55\n"
     ]
    },
    {
     "data": {
      "image/png": "[encoded data removed]",
      "text/plain": [
       "<Figure size 1000x600 with 1 Axes>"
      ]
     },
     "metadata": {},
     "output_type": "display_data"
    }
   ],
   "source": [
    "revenues = [expected_revenue(df3, p) for p in range(max(df3['p_i'] + 1))]\n",
    "pstar = xw[np.argmax(revenues)]\n",
    "print('The optimal price is ' + str(pstar))\n",
    "plt.figure(figsize=(10, 6))\n",
    "plt.step(xw, revenues, '-')\n",
    "plt.plot(pstar, max(revenues), 'o')\n",
    "plt.savefig('revenue.png')\n",
    "plt.show()"
   ]
  },
  {
   "cell_type": "code",
   "execution_count": 15,
   "metadata": {},
   "outputs": [],
   "source": [
    "def compute_revenue(W, p):\n",
    "    revenue = 0\n",
    "    for i in range(len(W)):\n",
    "        if W[i] >= p:\n",
    "            revenue += p\n",
    "    return revenue"
   ]
  },
  {
   "cell_type": "code",
   "execution_count": 16,
   "metadata": {},
   "outputs": [
    {
     "name": "stdout",
     "output_type": "stream",
     "text": [
      "The revenue for the optimal price is 1045\n"
     ]
    }
   ],
   "source": [
    "df3b = pd.read_excel(\"OutOfSample.xlsx\", sheet_name='Sheet1')\n",
    "wtp_vector = list(df3b['WTP'])\n",
    "print('The revenue for the optimal price is ' + str(compute_revenue(wtp_vector, pstar)))"
   ]
  }
 ],
 "metadata": {
  "kernelspec": {
   "display_name": "GAAP",
   "language": "python",
   "name": "python3"
  },
  "language_info": {
   "codemirror_mode": {
    "name": "ipython",
    "version": 3
   },
   "file_extension": ".py",
   "mimetype": "text/x-python",
   "name": "python",
   "nbconvert_exporter": "python",
   "pygments_lexer": "ipython3",
   "version": "3.7.16"
  },
  "orig_nbformat": 4,
  "vscode": {
   "interpreter": {
    "hash": "808b68e8c7f41400243e141156863e12fdf8189e6aeebe351602b6095ef30b98"
   }
  }
 },
 "nbformat": 4,
 "nbformat_minor": 2
}
